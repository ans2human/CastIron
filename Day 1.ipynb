{
 "cells": [
  {
   "cell_type": "code",
   "execution_count": 2,
   "metadata": {},
   "outputs": [
    {
     "data": {
      "text/plain": [
       "9"
      ]
     },
     "execution_count": 2,
     "metadata": {},
     "output_type": "execute_result"
    }
   ],
   "source": [
    "#python - general programming language"
   ]
  },
  {
   "cell_type": "code",
   "execution_count": 3,
   "metadata": {},
   "outputs": [],
   "source": [
    "# datatypes\n",
    "\n",
    "# - String\n",
    "# - Integer\n",
    "# - Booloean\n",
    "# - Float\n",
    "\n",
    "# collection datatypes\n",
    "\n",
    "# - List\n",
    "# - Set\n",
    "# - Tuple\n",
    "# - Dictionary"
   ]
  },
  {
   "cell_type": "code",
   "execution_count": 4,
   "metadata": {},
   "outputs": [],
   "source": [
    "# list\n",
    "# ordered \n",
    "# mutable datatype\n",
    "# allows duplicates\n",
    "# - Collection of Array in Square brackets []\n",
    "\n",
    "c = [1, 1.6, 'att', False]\n"
   ]
  },
  {
   "cell_type": "code",
   "execution_count": 6,
   "metadata": {},
   "outputs": [
    {
     "data": {
      "text/plain": [
       "'att'"
      ]
     },
     "execution_count": 6,
     "metadata": {},
     "output_type": "execute_result"
    }
   ],
   "source": [
    "# index\n",
    "\n",
    "list_var[2]"
   ]
  },
  {
   "cell_type": "code",
   "execution_count": 7,
   "metadata": {},
   "outputs": [],
   "source": [
    "# append method\n",
    "\n",
    "list_var.append(\"python\")\n"
   ]
  },
  {
   "cell_type": "code",
   "execution_count": 8,
   "metadata": {},
   "outputs": [
    {
     "data": {
      "text/plain": [
       "[1, 1.6, 'att', False, 'python']"
      ]
     },
     "execution_count": 8,
     "metadata": {},
     "output_type": "execute_result"
    }
   ],
   "source": [
    "list_var"
   ]
  },
  {
   "cell_type": "code",
   "execution_count": 9,
   "metadata": {},
   "outputs": [
    {
     "data": {
      "text/plain": [
       "5"
      ]
     },
     "execution_count": 9,
     "metadata": {},
     "output_type": "execute_result"
    }
   ],
   "source": [
    "len(list_var)"
   ]
  },
  {
   "cell_type": "code",
   "execution_count": 10,
   "metadata": {},
   "outputs": [
    {
     "data": {
      "text/plain": [
       "[0, 1, 2, 3]"
      ]
     },
     "execution_count": 10,
     "metadata": {},
     "output_type": "execute_result"
    }
   ],
   "source": [
    "list_var2 = list(range(4))\n",
    "list_var2"
   ]
  },
  {
   "cell_type": "code",
   "execution_count": 11,
   "metadata": {},
   "outputs": [
    {
     "data": {
      "text/plain": [
       "[1, 1.6, 'att', False, 'python', 0, 1, 2, 3]"
      ]
     },
     "execution_count": 11,
     "metadata": {},
     "output_type": "execute_result"
    }
   ],
   "source": [
    "list_var = list_var + list_var2\n",
    "list_var"
   ]
  },
  {
   "cell_type": "code",
   "execution_count": 14,
   "metadata": {},
   "outputs": [
    {
     "name": "stdout",
     "output_type": "stream",
     "text": [
      "this is my element>>>>> 1\n",
      "this is my element>>>>> 1.6\n",
      "this is my element>>>>> att\n",
      "this is my element>>>>> False\n",
      "this is my element>>>>> python\n",
      "this is my element>>>>> 0\n",
      "this is my element>>>>> 1\n",
      "this is my element>>>>> 2\n",
      "this is my element>>>>> 3\n"
     ]
    }
   ],
   "source": [
    "for x in list_var:\n",
    "    print('this is my element>>>>>',x)"
   ]
  },
  {
   "cell_type": "code",
   "execution_count": 19,
   "metadata": {},
   "outputs": [
    {
     "data": {
      "text/plain": [
       "list"
      ]
     },
     "execution_count": 19,
     "metadata": {},
     "output_type": "execute_result"
    }
   ],
   "source": [
    "type(list_var)"
   ]
  },
  {
   "cell_type": "code",
   "execution_count": 20,
   "metadata": {},
   "outputs": [],
   "source": [
    "# casting"
   ]
  },
  {
   "cell_type": "code",
   "execution_count": 40,
   "metadata": {},
   "outputs": [
    {
     "data": {
      "text/plain": [
       "['Guido', 'Van', 'Rossum']"
      ]
     },
     "execution_count": 40,
     "metadata": {},
     "output_type": "execute_result"
    }
   ],
   "source": [
    "name = \"Guido Van Rossum\"\n",
    "name = name.split(\" \")\n",
    "name"
   ]
  },
  {
   "cell_type": "code",
   "execution_count": 44,
   "metadata": {},
   "outputs": [
    {
     "data": {
      "text/plain": [
       "str"
      ]
     },
     "execution_count": 44,
     "metadata": {},
     "output_type": "execute_result"
    }
   ],
   "source": [
    "type(name[0])"
   ]
  },
  {
   "cell_type": "code",
   "execution_count": 43,
   "metadata": {},
   "outputs": [
    {
     "data": {
      "text/plain": [
       "str"
      ]
     },
     "execution_count": 43,
     "metadata": {},
     "output_type": "execute_result"
    }
   ],
   "source": [
    "name = name[0] + ' ' + name[1] + \" \" + name[2]\n",
    "type(name)"
   ]
  },
  {
   "cell_type": "code",
   "execution_count": 45,
   "metadata": {},
   "outputs": [],
   "source": [
    "# tuple\n",
    "# immutable : Can't add/Update elements when created.\n",
    "# ordered, allows duplicates\n",
    "# syntax : ()"
   ]
  },
  {
   "cell_type": "code",
   "execution_count": 61,
   "metadata": {},
   "outputs": [],
   "source": [
    "tuple_var = (1, 1.3, False, \"Abc\", 1)"
   ]
  },
  {
   "cell_type": "code",
   "execution_count": 62,
   "metadata": {},
   "outputs": [
    {
     "data": {
      "text/plain": [
       "tuple"
      ]
     },
     "execution_count": 62,
     "metadata": {},
     "output_type": "execute_result"
    }
   ],
   "source": [
    "type(tuple_var)"
   ]
  },
  {
   "cell_type": "code",
   "execution_count": 63,
   "metadata": {},
   "outputs": [
    {
     "data": {
      "text/plain": [
       "'Abc'"
      ]
     },
     "execution_count": 63,
     "metadata": {},
     "output_type": "execute_result"
    }
   ],
   "source": [
    "tuple_var[3]\n"
   ]
  },
  {
   "cell_type": "code",
   "execution_count": 64,
   "metadata": {},
   "outputs": [
    {
     "data": {
      "text/plain": [
       "['__add__',\n",
       " '__class__',\n",
       " '__class_getitem__',\n",
       " '__contains__',\n",
       " '__delattr__',\n",
       " '__dir__',\n",
       " '__doc__',\n",
       " '__eq__',\n",
       " '__format__',\n",
       " '__ge__',\n",
       " '__getattribute__',\n",
       " '__getitem__',\n",
       " '__getnewargs__',\n",
       " '__gt__',\n",
       " '__hash__',\n",
       " '__init__',\n",
       " '__init_subclass__',\n",
       " '__iter__',\n",
       " '__le__',\n",
       " '__len__',\n",
       " '__lt__',\n",
       " '__mul__',\n",
       " '__ne__',\n",
       " '__new__',\n",
       " '__reduce__',\n",
       " '__reduce_ex__',\n",
       " '__repr__',\n",
       " '__rmul__',\n",
       " '__setattr__',\n",
       " '__sizeof__',\n",
       " '__str__',\n",
       " '__subclasshook__',\n",
       " 'count',\n",
       " 'index']"
      ]
     },
     "execution_count": 64,
     "metadata": {},
     "output_type": "execute_result"
    }
   ],
   "source": [
    "dir(tuple_var)"
   ]
  },
  {
   "cell_type": "code",
   "execution_count": 65,
   "metadata": {},
   "outputs": [
    {
     "data": {
      "text/plain": [
       "2"
      ]
     },
     "execution_count": 65,
     "metadata": {},
     "output_type": "execute_result"
    }
   ],
   "source": [
    "tuple_var.count(1)"
   ]
  },
  {
   "cell_type": "code",
   "execution_count": 66,
   "metadata": {},
   "outputs": [
    {
     "ename": "SyntaxError",
     "evalue": "invalid syntax (<ipython-input-66-4eecf900ce42>, line 1)",
     "output_type": "error",
     "traceback": [
      "\u001b[0;36m  File \u001b[0;32m\"<ipython-input-66-4eecf900ce42>\"\u001b[0;36m, line \u001b[0;32m1\u001b[0m\n\u001b[0;31m    3e = e\u001b[0m\n\u001b[0m     ^\u001b[0m\n\u001b[0;31mSyntaxError\u001b[0m\u001b[0;31m:\u001b[0m invalid syntax\n"
     ]
    }
   ],
   "source": [
    "3e = e"
   ]
  },
  {
   "cell_type": "code",
   "execution_count": 80,
   "metadata": {},
   "outputs": [
    {
     "data": {
      "text/plain": [
       "tuple"
      ]
     },
     "execution_count": 80,
     "metadata": {},
     "output_type": "execute_result"
    }
   ],
   "source": [
    "#list Vs Tuple\n",
    "\n",
    "# - mutable , Immutable \n",
    "\n",
    "cl = [2,4]\n",
    "ct = (2,4)\n",
    "\n",
    "type(ct)"
   ]
  },
  {
   "cell_type": "code",
   "execution_count": 1,
   "metadata": {},
   "outputs": [],
   "source": [
    "# day 2"
   ]
  },
  {
   "cell_type": "code",
   "execution_count": 4,
   "metadata": {},
   "outputs": [
    {
     "data": {
      "text/plain": [
       "[1, 1, 2, 3, 4, 5, 6, 7, 8, 9, 10]"
      ]
     },
     "execution_count": 4,
     "metadata": {},
     "output_type": "execute_result"
    }
   ],
   "source": [
    "# Sets\n",
    "\n",
    "# - unordered\n",
    "# - doesn't allows duplicates \n",
    "# - unindexed\n",
    "# - once created, can only add elements not edit\n",
    "\n",
    "a = list(range(11))\n",
    "a[0] = 1\n",
    "a"
   ]
  },
  {
   "cell_type": "code",
   "execution_count": 7,
   "metadata": {},
   "outputs": [],
   "source": [
    "a = set(a)"
   ]
  },
  {
   "cell_type": "code",
   "execution_count": 16,
   "metadata": {},
   "outputs": [
    {
     "data": {
      "text/plain": [
       "{1, 1.3, 22, 'ABC', False, 'abc'}"
      ]
     },
     "execution_count": 16,
     "metadata": {},
     "output_type": "execute_result"
    }
   ],
   "source": [
    "import random \n",
    "a = list(a)\n",
    "random.shuffle(a)\n",
    "a = set(a)\n",
    "a"
   ]
  },
  {
   "cell_type": "code",
   "execution_count": 69,
   "metadata": {},
   "outputs": [],
   "source": [
    "a = { 1, 1.3, \"ABC\", False, \"abc\", 22, 1}"
   ]
  },
  {
   "cell_type": "code",
   "execution_count": 70,
   "metadata": {},
   "outputs": [
    {
     "data": {
      "text/plain": [
       "{1, 1.3, 22, 'ABC', False, 'abc'}"
      ]
     },
     "execution_count": 70,
     "metadata": {},
     "output_type": "execute_result"
    }
   ],
   "source": [
    "a"
   ]
  },
  {
   "cell_type": "code",
   "execution_count": 71,
   "metadata": {},
   "outputs": [
    {
     "name": "stdout",
     "output_type": "stream",
     "text": [
      "True\n"
     ]
    }
   ],
   "source": [
    "# for abc in a:\n",
    "#     print('true')\n",
    "    \n",
    "print(\"abc\" in a)"
   ]
  },
  {
   "cell_type": "code",
   "execution_count": 72,
   "metadata": {},
   "outputs": [
    {
     "data": {
      "text/plain": [
       "6"
      ]
     },
     "execution_count": 72,
     "metadata": {},
     "output_type": "execute_result"
    }
   ],
   "source": [
    "len(a)"
   ]
  },
  {
   "cell_type": "code",
   "execution_count": 73,
   "metadata": {},
   "outputs": [
    {
     "data": {
      "text/plain": [
       "{1, 1.3, 22, 'ABC', False, 'abc'}"
      ]
     },
     "execution_count": 73,
     "metadata": {},
     "output_type": "execute_result"
    }
   ],
   "source": [
    "a"
   ]
  },
  {
   "cell_type": "code",
   "execution_count": 74,
   "metadata": {},
   "outputs": [
    {
     "data": {
      "text/plain": [
       "{1, 1.3, 22, 'ABC', False, 'abc', 'orange'}"
      ]
     },
     "execution_count": 74,
     "metadata": {},
     "output_type": "execute_result"
    }
   ],
   "source": [
    "# add method\n",
    "\n",
    "a.add(\"orange\")\n",
    "a"
   ]
  },
  {
   "cell_type": "code",
   "execution_count": 113,
   "metadata": {},
   "outputs": [
    {
     "data": {
      "text/plain": [
       "{1.3, 22, 'abc', 'apple', 'kiwi', 'orange'}"
      ]
     },
     "execution_count": 113,
     "metadata": {},
     "output_type": "execute_result"
    }
   ],
   "source": [
    "# update\n",
    "\n",
    "b = {\"apple\", \"kiwi\", 'abc'}\n",
    "a.update(b)\n",
    "a"
   ]
  },
  {
   "cell_type": "code",
   "execution_count": 76,
   "metadata": {},
   "outputs": [
    {
     "data": {
      "text/plain": [
       "{1, 1.3, 22, 'ABC', False, 'apple', 'kiwi', 'orange'}"
      ]
     },
     "execution_count": 76,
     "metadata": {},
     "output_type": "execute_result"
    }
   ],
   "source": [
    "# remove\n",
    "\n",
    "a.remove('abc')\n",
    "a\n"
   ]
  },
  {
   "cell_type": "code",
   "execution_count": 78,
   "metadata": {},
   "outputs": [
    {
     "data": {
      "text/plain": [
       "False"
      ]
     },
     "execution_count": 78,
     "metadata": {},
     "output_type": "execute_result"
    }
   ],
   "source": [
    "# pop\n",
    "# using pop method you can only take out last element from your set(unordered)\n",
    "# Bool, int, float, string\n",
    "a.pop()\n",
    "a\n"
   ]
  },
  {
   "cell_type": "code",
   "execution_count": 79,
   "metadata": {},
   "outputs": [
    {
     "data": {
      "text/plain": [
       "{1, 1.3, 22, 'ABC', 'apple', 'kiwi', 'orange'}"
      ]
     },
     "execution_count": 79,
     "metadata": {},
     "output_type": "execute_result"
    }
   ],
   "source": [
    "a"
   ]
  },
  {
   "cell_type": "code",
   "execution_count": 80,
   "metadata": {},
   "outputs": [
    {
     "data": {
      "text/plain": [
       "1"
      ]
     },
     "execution_count": 80,
     "metadata": {},
     "output_type": "execute_result"
    }
   ],
   "source": [
    "a.pop()"
   ]
  },
  {
   "cell_type": "code",
   "execution_count": 83,
   "metadata": {},
   "outputs": [],
   "source": [
    "# discard\n",
    "# This method removes specific element from your set\n",
    "a.discard(\"ABC\")\n",
    "\n",
    "\n",
    "\n"
   ]
  },
  {
   "cell_type": "code",
   "execution_count": 84,
   "metadata": {},
   "outputs": [
    {
     "data": {
      "text/plain": [
       "{1.3, 22, 'apple', 'kiwi', 'orange'}"
      ]
     },
     "execution_count": 84,
     "metadata": {},
     "output_type": "execute_result"
    }
   ],
   "source": [
    "a"
   ]
  },
  {
   "cell_type": "code",
   "execution_count": 96,
   "metadata": {},
   "outputs": [
    {
     "name": "stdout",
     "output_type": "stream",
     "text": [
      "key does not exit\n"
     ]
    }
   ],
   "source": [
    "# remove vs discard\n",
    "\n",
    "# when you use remove and the key if it doesn't exist will raise a KeyError whereas using\n",
    "# discard won't give you any error\n",
    "try:\n",
    "    a.remove(\"ABC\")\n",
    "except KeyError:\n",
    "    print(\"key does not exist\")"
   ]
  },
  {
   "cell_type": "code",
   "execution_count": 101,
   "metadata": {},
   "outputs": [],
   "source": [
    "# clear\n",
    "\n",
    "b = {1, 3, 6, \"qwertty\", \"33.3\", False}\n",
    "b.clear()\n"
   ]
  },
  {
   "cell_type": "code",
   "execution_count": 102,
   "metadata": {},
   "outputs": [
    {
     "data": {
      "text/plain": [
       "set()"
      ]
     },
     "execution_count": 102,
     "metadata": {},
     "output_type": "execute_result"
    }
   ],
   "source": [
    "b"
   ]
  },
  {
   "cell_type": "code",
   "execution_count": 104,
   "metadata": {},
   "outputs": [],
   "source": [
    "b = {1, 3, 6, \"qwertty\", \"33.3\", False}\n",
    "# del\n",
    "\n",
    "del b"
   ]
  },
  {
   "cell_type": "code",
   "execution_count": 105,
   "metadata": {},
   "outputs": [
    {
     "ename": "NameError",
     "evalue": "name 'b' is not defined",
     "output_type": "error",
     "traceback": [
      "\u001b[0;31m---------------------------------------------------------------------------\u001b[0m",
      "\u001b[0;31mNameError\u001b[0m                                 Traceback (most recent call last)",
      "\u001b[0;32m<ipython-input-105-89e6c98d9288>\u001b[0m in \u001b[0;36m<module>\u001b[0;34m\u001b[0m\n\u001b[0;32m----> 1\u001b[0;31m \u001b[0mb\u001b[0m\u001b[0;34m\u001b[0m\u001b[0;34m\u001b[0m\u001b[0m\n\u001b[0m",
      "\u001b[0;31mNameError\u001b[0m: name 'b' is not defined"
     ]
    }
   ],
   "source": [
    "b"
   ]
  },
  {
   "cell_type": "code",
   "execution_count": 112,
   "metadata": {},
   "outputs": [
    {
     "name": "stdout",
     "output_type": "stream",
     "text": [
      "{1.3, 'apple', 'kiwi', 22, 'orange'} {False, 1.3, 'apple', 3, 6, 'qwertty'}\n"
     ]
    },
    {
     "data": {
      "text/plain": [
       "{22, 3, 6, False, 'kiwi', 'orange', 'qwertty'}"
      ]
     },
     "execution_count": 112,
     "metadata": {},
     "output_type": "execute_result"
    }
   ],
   "source": [
    "# symmetric_difference\n",
    "\n",
    "b = {1.3, 3, 6, \"qwertty\", \"apple\", False}\n",
    "print(a, b)\n",
    "c = a.symmetric_difference(b)\n",
    "c"
   ]
  },
  {
   "cell_type": "code",
   "execution_count": 114,
   "metadata": {},
   "outputs": [],
   "source": [
    "# union\n",
    "# update\n",
    "# intersection\n",
    "# intersection_update\n",
    "# is_dis_joint\n",
    "# Symmetric_difference_update"
   ]
  },
  {
   "cell_type": "code",
   "execution_count": null,
   "metadata": {},
   "outputs": [],
   "source": [
    "# dictionary\n",
    "# key value pair\n",
    "# unordered\n",
    "# mutable\n",
    "# does not allow dulicates"
   ]
  },
  {
   "cell_type": "code",
   "execution_count": 14,
   "metadata": {},
   "outputs": [],
   "source": [
    "a = {\n",
    "    4: 'anshuman',\n",
    "    4: 'anshuman',\n",
    "    'attendance': 75.4,\n",
    "    \"is_active\": True\n",
    "}"
   ]
  },
  {
   "cell_type": "code",
   "execution_count": 12,
   "metadata": {},
   "outputs": [
    {
     "data": {
      "text/plain": [
       "dict"
      ]
     },
     "execution_count": 12,
     "metadata": {},
     "output_type": "execute_result"
    }
   ],
   "source": [
    "type(a)"
   ]
  },
  {
   "cell_type": "code",
   "execution_count": 13,
   "metadata": {},
   "outputs": [
    {
     "data": {
      "text/plain": [
       "3"
      ]
     },
     "execution_count": 13,
     "metadata": {},
     "output_type": "execute_result"
    }
   ],
   "source": [
    "len(a)"
   ]
  },
  {
   "cell_type": "code",
   "execution_count": 10,
   "metadata": {},
   "outputs": [
    {
     "data": {
      "text/plain": [
       "'anshuman'"
      ]
     },
     "execution_count": 10,
     "metadata": {},
     "output_type": "execute_result"
    }
   ],
   "source": [
    "a['name']"
   ]
  },
  {
   "cell_type": "code",
   "execution_count": 123,
   "metadata": {},
   "outputs": [
    {
     "data": {
      "text/plain": [
       "{'name': 'anshuman', 'emd_id': 123, 'attendance': 75.4, 'is_active': True}"
      ]
     },
     "execution_count": 123,
     "metadata": {},
     "output_type": "execute_result"
    }
   ],
   "source": [
    "# list vs tuple\n",
    "# list is unhashable\n",
    "# tuple is hashable\n",
    "\n",
    "\n",
    "b = {\n",
    "    'name': 'anshuman',\n",
    "    ('emd_id'): 123,\n",
    "    'attendance': 75.4,\n",
    "    \"is_active\": True\n",
    "}\n",
    "b"
   ]
  },
  {
   "cell_type": "code",
   "execution_count": 126,
   "metadata": {},
   "outputs": [
    {
     "data": {
      "text/plain": [
       "{'name': 'anshuman', 'emp id': 123, 'attendance': 75.4, 'is_active': True}"
      ]
     },
     "execution_count": 126,
     "metadata": {},
     "output_type": "execute_result"
    }
   ],
   "source": [
    "a"
   ]
  },
  {
   "cell_type": "code",
   "execution_count": 128,
   "metadata": {},
   "outputs": [],
   "source": [
    "a.get(\"empid\")"
   ]
  },
  {
   "cell_type": "code",
   "execution_count": 129,
   "metadata": {},
   "outputs": [],
   "source": [
    "b = {\n",
    "    'name': {'anshuman', 'Anand', \"Singh\"},\n",
    "    ('emd_id'): 123,\n",
    "    'shift': ['pst', 'est', 'ist'],\n",
    "    \"is_active\": True\n",
    "}\n",
    "\n",
    "# key can be normal hashable type variable\n",
    "# value can be anything"
   ]
  },
  {
   "cell_type": "code",
   "execution_count": 130,
   "metadata": {},
   "outputs": [
    {
     "data": {
      "text/plain": [
       "{'name': {'Anand', 'Singh', 'anshuman'},\n",
       " 'emd_id': 123,\n",
       " 'shift': ['pst', 'est', 'ist'],\n",
       " 'is_active': True}"
      ]
     },
     "execution_count": 130,
     "metadata": {},
     "output_type": "execute_result"
    }
   ],
   "source": [
    "b"
   ]
  },
  {
   "cell_type": "code",
   "execution_count": 132,
   "metadata": {},
   "outputs": [
    {
     "data": {
      "text/plain": [
       "{'name': {'Anand', 'Singh', 'anshuman'},\n",
       " 'emd_id': {'ist': 343, 'pst': 333},\n",
       " 'shift': ['pst', 'est', 'ist'],\n",
       " 'is_active': True}"
      ]
     },
     "execution_count": 132,
     "metadata": {},
     "output_type": "execute_result"
    }
   ],
   "source": [
    "{'name': {'Anand', 'Singh', 'anshuman'},\n",
    " 'emd_id': {\"ist\": 343, 'pst':333},\n",
    " 'shift': ['pst', 'est', 'ist'],\n",
    " 'is_active': True}"
   ]
  },
  {
   "cell_type": "code",
   "execution_count": 138,
   "metadata": {},
   "outputs": [],
   "source": [
    "b = {'name': {'Anand', 'Singh', 'anshuman'},\n",
    " 'emd_id': {\"ist\": 343, 'pst':{333:33, 44:55}},\n",
    " 'shift': ['pst', 'est', 'ist'],\n",
    " 'is_active': True}"
   ]
  },
  {
   "cell_type": "code",
   "execution_count": 141,
   "metadata": {},
   "outputs": [
    {
     "data": {
      "text/plain": [
       "55"
      ]
     },
     "execution_count": 141,
     "metadata": {},
     "output_type": "execute_result"
    }
   ],
   "source": [
    "b['emd_id']['pst'][44]"
   ]
  },
  {
   "cell_type": "code",
   "execution_count": 25,
   "metadata": {},
   "outputs": [],
   "source": [
    "# Adding to dictionary & Update\n",
    "\n",
    "a[\"emp_id\"] = 101\n",
    "a[\"name\"] = \"Anshuman\""
   ]
  },
  {
   "cell_type": "code",
   "execution_count": 26,
   "metadata": {},
   "outputs": [
    {
     "data": {
      "text/plain": [
       "{'attendance': 75.4, 'is_active': True, 'emp_id': 101, 'name': 'Anshuman'}"
      ]
     },
     "execution_count": 26,
     "metadata": {},
     "output_type": "execute_result"
    }
   ],
   "source": [
    "a"
   ]
  },
  {
   "cell_type": "code",
   "execution_count": 30,
   "metadata": {},
   "outputs": [
    {
     "data": {
      "text/plain": [
       "{1.3: 3, 6: 'qwertty', 'apple': False}"
      ]
     },
     "execution_count": 30,
     "metadata": {},
     "output_type": "execute_result"
    }
   ],
   "source": [
    "b = {1.3:3, 6:\"qwertty\", \"apple\":False}\n",
    "b"
   ]
  },
  {
   "cell_type": "code",
   "execution_count": 32,
   "metadata": {},
   "outputs": [
    {
     "data": {
      "text/plain": [
       "{'attendance': 75.4,\n",
       " 'is_active': True,\n",
       " 'emp_id': 101,\n",
       " 'name': 'Anshuman',\n",
       " 1.3: 3,\n",
       " 6: 'qwertty',\n",
       " 'apple': False}"
      ]
     },
     "execution_count": 32,
     "metadata": {},
     "output_type": "execute_result"
    }
   ],
   "source": [
    "a.update({1.3:3, 6:\"qwertty\", \"apple\":False})\n",
    "# update will never take dictioanry variable but the its ok with the dictionary body"
   ]
  },
  {
   "cell_type": "code",
   "execution_count": 33,
   "metadata": {},
   "outputs": [
    {
     "data": {
      "text/plain": [
       "{'attendance': 75.4,\n",
       " 'is_active': True,\n",
       " 'emp_id': 101,\n",
       " 'name': 'Anshuman',\n",
       " 1.3: 3,\n",
       " 6: 'qwertty',\n",
       " 'apple': False}"
      ]
     },
     "execution_count": 33,
     "metadata": {},
     "output_type": "execute_result"
    }
   ],
   "source": [
    "a"
   ]
  },
  {
   "cell_type": "code",
   "execution_count": 38,
   "metadata": {},
   "outputs": [],
   "source": [
    "a = {\n",
    "    'name': 'anshuman',\n",
    "    'emp_id': 101,\n",
    "    'attendance': 75.4,\n",
    "    \"is_active\": True\n",
    "}\n",
    "\n",
    "b = {1.3:3, 6:\"qwertty\", \"apple\":False}\n"
   ]
  },
  {
   "cell_type": "code",
   "execution_count": 39,
   "metadata": {},
   "outputs": [],
   "source": [
    "a = {**a, **b}"
   ]
  },
  {
   "cell_type": "code",
   "execution_count": 40,
   "metadata": {},
   "outputs": [
    {
     "data": {
      "text/plain": [
       "{'name': 'anshuman',\n",
       " 'emp_id': 101,\n",
       " 'attendance': 75.4,\n",
       " 'is_active': True,\n",
       " 1.3: 3,\n",
       " 6: 'qwertty',\n",
       " 'apple': False}"
      ]
     },
     "execution_count": 40,
     "metadata": {},
     "output_type": "execute_result"
    }
   ],
   "source": [
    "a"
   ]
  },
  {
   "cell_type": "code",
   "execution_count": 41,
   "metadata": {},
   "outputs": [],
   "source": [
    "a = {\n",
    "    'name': 'anshuman',\n",
    "    'emp_id': 101,\n",
    "    'attendance': 75.4,\n",
    "    \"is_active\": True\n",
    "}\n",
    "\n",
    "b = {1.3:3, 6:\"qwertty\", \"apple\":False}\n",
    "\n",
    "a |= b   # dictionary only\n",
    "\n"
   ]
  },
  {
   "cell_type": "code",
   "execution_count": 42,
   "metadata": {},
   "outputs": [
    {
     "data": {
      "text/plain": [
       "{'name': 'anshuman',\n",
       " 'emp_id': 101,\n",
       " 'attendance': 75.4,\n",
       " 'is_active': True,\n",
       " 1.3: 3,\n",
       " 6: 'qwertty',\n",
       " 'apple': False}"
      ]
     },
     "execution_count": 42,
     "metadata": {},
     "output_type": "execute_result"
    }
   ],
   "source": [
    "a"
   ]
  },
  {
   "cell_type": "code",
   "execution_count": 45,
   "metadata": {},
   "outputs": [],
   "source": [
    "a = {\n",
    "    'name': 'anshuman',\n",
    "    'emp_id': 101,\n",
    "    'attendance': 75.4,\n",
    "    \"is_active\": True\n",
    "}\n",
    "\n",
    "b = {1.3:3, 6:\"qwertty\", \"apple\":False}\n",
    "\n",
    "\n",
    "x = a|b"
   ]
  },
  {
   "cell_type": "code",
   "execution_count": 46,
   "metadata": {},
   "outputs": [
    {
     "data": {
      "text/plain": [
       "{'name': 'anshuman',\n",
       " 'emp_id': 101,\n",
       " 'attendance': 75.4,\n",
       " 'is_active': True,\n",
       " 1.3: 3,\n",
       " 6: 'qwertty',\n",
       " 'apple': False}"
      ]
     },
     "execution_count": 46,
     "metadata": {},
     "output_type": "execute_result"
    }
   ],
   "source": [
    "x"
   ]
  },
  {
   "cell_type": "code",
   "execution_count": 52,
   "metadata": {},
   "outputs": [
    {
     "ename": "NameError",
     "evalue": "name 'x' is not defined",
     "output_type": "error",
     "traceback": [
      "\u001b[0;31m---------------------------------------------------------------------------\u001b[0m",
      "\u001b[0;31mNameError\u001b[0m                                 Traceback (most recent call last)",
      "\u001b[0;32m<ipython-input-52-420f7274d213>\u001b[0m in \u001b[0;36m<module>\u001b[0;34m\u001b[0m\n\u001b[1;32m      2\u001b[0m \u001b[0;31m# clear\u001b[0m\u001b[0;34m\u001b[0m\u001b[0;34m\u001b[0m\u001b[0;34m\u001b[0m\u001b[0m\n\u001b[1;32m      3\u001b[0m \u001b[0;34m\u001b[0m\u001b[0m\n\u001b[0;32m----> 4\u001b[0;31m \u001b[0mx\u001b[0m\u001b[0;34m.\u001b[0m\u001b[0mclear\u001b[0m\u001b[0;34m(\u001b[0m\u001b[0;34m)\u001b[0m\u001b[0;34m\u001b[0m\u001b[0;34m\u001b[0m\u001b[0m\n\u001b[0m\u001b[1;32m      5\u001b[0m \u001b[0;32mdel\u001b[0m \u001b[0mx\u001b[0m\u001b[0;34m\u001b[0m\u001b[0;34m\u001b[0m\u001b[0m\n\u001b[1;32m      6\u001b[0m \u001b[0mx\u001b[0m\u001b[0;34m\u001b[0m\u001b[0;34m\u001b[0m\u001b[0m\n",
      "\u001b[0;31mNameError\u001b[0m: name 'x' is not defined"
     ]
    }
   ],
   "source": [
    "# Delete\n",
    "# clear\n",
    "x['name']\n",
    "del x['name']\n",
    "x.clear()\n",
    "del x"
   ]
  },
  {
   "cell_type": "code",
   "execution_count": 60,
   "metadata": {},
   "outputs": [
    {
     "data": {
      "text/plain": [
       "{'name': 'anshuman', 'emp_id': 101, 'is_active': True}"
      ]
     },
     "execution_count": 60,
     "metadata": {},
     "output_type": "execute_result"
    }
   ],
   "source": [
    "# pop   <-  take out specific element from dictionary\n",
    "a = {\n",
    "    'name': 'anshuman',\n",
    "    'emp_id': 101,\n",
    "    'attendance': 75.4,\n",
    "    \"is_active\": True\n",
    "}\n",
    "a.pop('attendance')\n",
    "a\n",
    "#\n"
   ]
  },
  {
   "cell_type": "code",
   "execution_count": 67,
   "metadata": {},
   "outputs": [
    {
     "data": {
      "text/plain": [
       "{}"
      ]
     },
     "execution_count": 67,
     "metadata": {},
     "output_type": "execute_result"
    }
   ],
   "source": [
    "#  pop items  <- pop last element from dictionary\n",
    "a.popitem()\n",
    "a"
   ]
  },
  {
   "cell_type": "code",
   "execution_count": 63,
   "metadata": {},
   "outputs": [
    {
     "data": {
      "text/plain": [
       "{'name': 'anshuman', 'emp_id': 101}"
      ]
     },
     "execution_count": 63,
     "metadata": {},
     "output_type": "execute_result"
    }
   ],
   "source": []
  },
  {
   "cell_type": "code",
   "execution_count": 80,
   "metadata": {},
   "outputs": [
    {
     "name": "stdout",
     "output_type": "stream",
     "text": [
      "name <<< is the key of value >>> anshuman\n",
      "emp_id <<< is the key of value >>> 101\n",
      "attendance <<< is the key of value >>> 75.4\n",
      "is_active <<< is the key of value >>> True\n",
      "name\n",
      "emp_id\n",
      "attendance\n",
      "is_active\n",
      "anshuman\n",
      "101\n",
      "75.4\n",
      "True\n"
     ]
    }
   ],
   "source": [
    "# items \n",
    "\n",
    "\n",
    "a = {\n",
    "    'name': 'anshuman',\n",
    "    'emp_id': 101,\n",
    "    'attendance': 75.4,\n",
    "    \"is_active\": True\n",
    "}\n",
    "\n",
    "for k,v in a.items():\n",
    "    print(k,\"<<< is the key of value >>>\",v)\n",
    "    \n",
    "  # keys  \n",
    "for k in a.keys():\n",
    "    print(k)\n",
    " # values   \n",
    "for v in a.values():\n",
    "    print(v)"
   ]
  },
  {
   "cell_type": "code",
   "execution_count": 89,
   "metadata": {},
   "outputs": [
    {
     "data": {
      "text/plain": [
       "({'name': 'anshuman', 'emp_id': 101, 'attendance': 75.4, 'is_active': True},\n",
       " {'name': 'anshuman', 'emp_id': 101, 'attendance': 75.4, 'is_active': True})"
      ]
     },
     "execution_count": 89,
     "metadata": {},
     "output_type": "execute_result"
    }
   ],
   "source": [
    "# copy\n",
    "\n",
    "a\n",
    "s = a.copy()\n",
    "s, a"
   ]
  },
  {
   "cell_type": "code",
   "execution_count": 95,
   "metadata": {},
   "outputs": [
    {
     "data": {
      "text/plain": [
       "(1, 2, 4)"
      ]
     },
     "execution_count": 95,
     "metadata": {},
     "output_type": "execute_result"
    }
   ],
   "source": [
    "a, b, c = 1, 2, 4\n",
    "a, b, c"
   ]
  },
  {
   "cell_type": "code",
   "execution_count": null,
   "metadata": {},
   "outputs": [],
   "source": [
    "# Week 2\n",
    "# day 5"
   ]
  },
  {
   "cell_type": "code",
   "execution_count": 16,
   "metadata": {},
   "outputs": [
    {
     "data": {
      "text/plain": [
       "'2020-12-07T08:18:21.001239'"
      ]
     },
     "execution_count": 16,
     "metadata": {},
     "output_type": "execute_result"
    }
   ],
   "source": [
    "# Dates, Functions # comprehensions\n",
    "\n",
    "# import datetime\n",
    "from datetime import datetime\n",
    "# in python we do not name our variables with method name\n",
    "date_date = datetime.now() # this is a method call\n",
    "date_var.isoformat()\n",
    "# isoformat is basically "
   ]
  },
  {
   "cell_type": "code",
   "execution_count": 34,
   "metadata": {},
   "outputs": [],
   "source": [
    "str_date = \"2020-12-27T08:18:21.001239\""
   ]
  },
  {
   "cell_type": "code",
   "execution_count": 40,
   "metadata": {},
   "outputs": [
    {
     "data": {
      "text/plain": [
       "'2020-08-12'"
      ]
     },
     "execution_count": 40,
     "metadata": {},
     "output_type": "execute_result"
    }
   ],
   "source": [
    "date_var = datetime(2020, 8, 12, 8, 25, 22, 343343)\n",
    "\n",
    "date_var.strftime('%Y-%m-%d')"
   ]
  },
  {
   "cell_type": "code",
   "execution_count": 38,
   "metadata": {},
   "outputs": [
    {
     "name": "stdout",
     "output_type": "stream",
     "text": [
      "2020-12-27T08:18:21.001239\n"
     ]
    },
    {
     "data": {
      "text/plain": [
       "datetime.datetime(2020, 12, 27, 8, 18, 21, 1239)"
      ]
     },
     "execution_count": 38,
     "metadata": {},
     "output_type": "execute_result"
    }
   ],
   "source": [
    "# strptime\n",
    "\n",
    "date_var_conversion = datetime.strptime(str_date, '%Y-%m-%dT%H:%M:%S.%f')\n",
    "date_var_conversion"
   ]
  },
  {
   "cell_type": "code",
   "execution_count": 48,
   "metadata": {},
   "outputs": [],
   "source": [
    "# functions\n",
    "str_dw  = '2020-10-17T08:18:21.001239'\n",
    "def date_conversion(str_date):\n",
    "    dc = datetime.strptime(str_date, '%Y-%m-%dT%H:%M:%S.%f')\n",
    "    pass\n",
    "\n",
    "\n",
    "date_conversion(str_dw)\n",
    "# a fucntion has to return something, if not use Pass\n",
    "\n",
    "# block of code with specific methods"
   ]
  },
  {
   "cell_type": "code",
   "execution_count": 49,
   "metadata": {},
   "outputs": [],
   "source": [
    "date_conversion('2020-09-17T08:18:21.001239')"
   ]
  },
  {
   "cell_type": "code",
   "execution_count": 2,
   "metadata": {},
   "outputs": [
    {
     "data": {
      "text/plain": [
       "[2, 5, 1, 7, 3, 9, 4, 6, 8, 1]"
      ]
     },
     "execution_count": 2,
     "metadata": {},
     "output_type": "execute_result"
    }
   ],
   "source": [
    "# comprehensions\n",
    "# one-liners\n",
    "\n",
    "a = [2, 5, 1, 7, 3, 9, 4, 6, 8, 1]\n",
    "a"
   ]
  },
  {
   "cell_type": "code",
   "execution_count": 4,
   "metadata": {},
   "outputs": [
    {
     "data": {
      "text/plain": [
       "[1, 1, 2, 3, 4, 5, 6, 7, 8, 9]"
      ]
     },
     "execution_count": 4,
     "metadata": {},
     "output_type": "execute_result"
    }
   ],
   "source": [
    "#sorted\n",
    "for i in range(len(a)):\n",
    "    for j in range(len(a)):\n",
    "        if a[i] < a[j]:\n",
    "            a[i], a[j] = a[j], a[i]\n",
    "a"
   ]
  },
  {
   "cell_type": "code",
   "execution_count": 74,
   "metadata": {},
   "outputs": [
    {
     "data": {
      "text/plain": [
       "[1, 2, 3, 4, 5, 6, 7, 8, 9, 10, 11, 12, 13, 14, 15, 16, 17, 18, 19, 20, 21]"
      ]
     },
     "execution_count": 74,
     "metadata": {},
     "output_type": "execute_result"
    }
   ],
   "source": [
    "_3divisiblsaae = list(range(1,22))\n",
    "_3divisiblsaae\n",
    "# find out elements that are divisible by 3"
   ]
  },
  {
   "cell_type": "code",
   "execution_count": 75,
   "metadata": {},
   "outputs": [],
   "source": [
    "_3divisiblsaae = []\n",
    "for x in a:\n",
    "    if x%3 == 0:\n",
    "        _3divisiblsaae.append(x)\n",
    "        "
   ]
  },
  {
   "cell_type": "code",
   "execution_count": 73,
   "metadata": {},
   "outputs": [
    {
     "data": {
      "text/plain": [
       "[3, 6, 9, 12, 15, 18, 21]"
      ]
     },
     "execution_count": 73,
     "metadata": {},
     "output_type": "execute_result"
    }
   ],
   "source": [
    "_3divisiblsaae"
   ]
  },
  {
   "cell_type": "code",
   "execution_count": 79,
   "metadata": {},
   "outputs": [
    {
     "data": {
      "text/plain": [
       "[3, 6, 9, 12, 15, 18, 21]"
      ]
     },
     "execution_count": 79,
     "metadata": {},
     "output_type": "execute_result"
    }
   ],
   "source": [
    "_3divisiblsaae = list(range(1,22))\n",
    "\n",
    "ws = [x for x in _3divisiblsaae if x%3 == 0]\n",
    "ws"
   ]
  },
  {
   "cell_type": "code",
   "execution_count": 1,
   "metadata": {},
   "outputs": [],
   "source": [
    "# day 7\n"
   ]
  },
  {
   "cell_type": "code",
   "execution_count": 8,
   "metadata": {},
   "outputs": [
    {
     "data": {
      "text/plain": [
       "[1, 1, 2, 3, 4, 5, 6, 7, 8, 9]"
      ]
     },
     "execution_count": 8,
     "metadata": {},
     "output_type": "execute_result"
    }
   ],
   "source": [
    "l = [2, 5, 1, 7, 3, 9, 4, 6, 8, 1]\n",
    "\n",
    "# bubble sort\n",
    "a = [l.append(l.pop(0) if i == len(l) - 1 or l[0] < l[1] else l.pop(1)) for j in range(0, len(l)) for i in range(0, len(l))]\n",
    "\n",
    "l"
   ]
  },
  {
   "cell_type": "code",
   "execution_count": 15,
   "metadata": {},
   "outputs": [
    {
     "ename": "SyntaxError",
     "evalue": "invalid syntax (<ipython-input-15-bd39866fb669>, line 2)",
     "output_type": "error",
     "traceback": [
      "\u001b[0;36m  File \u001b[0;32m\"<ipython-input-15-bd39866fb669>\"\u001b[0;36m, line \u001b[0;32m2\u001b[0m\n\u001b[0;31m    a = [a for a if a[i] < a[j] for i in range(0, len(l)) for j in range(0, len(l))]\u001b[0m\n\u001b[0m                                ^\u001b[0m\n\u001b[0;31mSyntaxError\u001b[0m\u001b[0;31m:\u001b[0m invalid syntax\n"
     ]
    }
   ],
   "source": [
    "# selection sort list comprehension\n",
    "# [entry for tag in tags for entry in entries if tag in entry]\n",
    "# solve it\n",
    "a = [a for a if a[i] < a[j] for i in range(0, len(l)) for j in range(0, len(l))]\n"
   ]
  },
  {
   "cell_type": "code",
   "execution_count": 59,
   "metadata": {},
   "outputs": [
    {
     "name": "stdout",
     "output_type": "stream",
     "text": [
      "/Users/ans2human/textfiles/sometxt.txt\n",
      "# functions\n",
      "str_dw  = '2020-10-17T08:18:21.001239'\n",
      "def date_conversion(str_date):\n",
      "    dc = datetime.strptime(str_date, '%Y-%m-%dT%H:%M:%S.%f')\n",
      "    pass\n",
      "\n",
      "\n",
      "date_conversion(str_dw)\n",
      "# a fucntion has to return something, if not use Pass\n",
      "\n",
      "# block of code with specific methods\n",
      "\n",
      "/Users/ans2human/textfiles/sometxt2.txt\n",
      "It is a long established fact that a reader will be distracted by the readable content of a page when looking at its layout. The point of using Lorem Ipsum is that it has a more-or-less normal distribution of letters, as opposed to using 'Content here, content here', making it look like readable English. Many desktop publishing packages and web page editors now use Lorem Ipsum as their default model text, and a search for 'lorem ipsum' will uncover many web sites still in their infancy. Various versions have evolved over the years, sometimes by accident, sometimes on purpose (injected humour and the like).\n",
      "\n",
      "abhinav\n",
      "\n",
      "/Users/ans2human/textfiles/sometxt3.txt\n",
      "There are many variations of passages of Lorem Ipsum available, but the majority have suffered alteration in some form, by injected humour, or randomised words which don't look even slightly believable. If you are going to use a passage of Lorem Ipsum, you need to be sure there isn't anything embarrassing hidden in the middle of text. All the Lorem Ipsum generators on the Internet tend to repeat predefined chunks as necessary, making this the first true generator on the Internet. It uses a dictionary of over 200 Latin words, combined with a handful of model sentence structures, to generate Lorem Ipsum which looks reasonable. The generated Lorem Ipsum is therefore always free from repetition, injected humour, or non-characteristic words etc.\n",
      "\n",
      "Anshuman\n",
      "\n",
      "/Users/ans2human/textfiles/sometxt1.txt\n",
      "Lorem Ipsum is simply dummy text of the printing and typesetting industry. Lorem Ipsum has been the industry's standard dummy text ever since the 1500s, when an unknown printer took a galley of type and scrambled it to make a type specimen book. It has survived not only five centuries, but also the leap into electronic typesetting, remaining essentially unchanged. It was popularised in the 1960s with the release of Letraset sheets containing Lorem Ipsum passages, and more recently with desktop publishing software like Aldus PageMaker including versions of Lorem Ipsum.\n",
      "\n",
      "Vibhu\n",
      "\n",
      "/Users/ans2human/textfiles/sometxt4.txt\n",
      "Contrary to popular belief, Lorem Ipsum is not simply random text. It has roots in a piece of classical Latin literature from 45 BC, making it over 2000 years old. Richard McClintock, a Latin professor at Hampden-Sydney College in Virginia, looked up one of the more obscure Latin words, consectetur, from a Lorem Ipsum passage, and going through the cites of the word in classical literature, discovered the undoubtable source. Lorem Ipsum comes from sections 1.10.32 and 1.10.33 of \"de Finibus Bonorum et Malorum\" (The Extremes of Good and Evil) by Cicero, written in 45 BC. This book is a treatise on the theory of ethics, very popular during the Renaissance. The first line of Lorem Ipsum, \"Lorem ipsum dolor sit amet..\", comes from a line in section 1.10.32.\n",
      "\n",
      "prudhvi\n",
      "\n"
     ]
    }
   ],
   "source": [
    "# file handling\n",
    "# exception handling\n",
    "\n",
    "# open() : to open a file, takes argument(filname and respective flag)\n",
    "# flags - r(read), a(append), w(write), x(create), t(text), b(binary)\n",
    "# read method: to read contents out of a file\n",
    "\n",
    "import os\n",
    "import re\n",
    "\n",
    "\n",
    "def file_reader(rootdir)\n",
    "regex = re.compile('(.*txt$)')\n",
    "file_paths = []\n",
    "for root, dirs, files in os.walk(rootdir):\n",
    "  for file in files:\n",
    "    if regex.match(file):\n",
    "       file_paths.append(file)\n",
    "for paths in file_paths:\n",
    "    try:\n",
    "        qwerty = open(rootdir + paths, \"r\")\n",
    "        print(qwerty.read())\n",
    "    except FileNotFoundError:\n",
    "        \n",
    "        print(\"file does not exist\")\n",
    "    \n"
   ]
  },
  {
   "cell_type": "code",
   "execution_count": 57,
   "metadata": {},
   "outputs": [
    {
     "data": {
      "text/plain": [
       "\"# functions\\nstr_dw  = '2020-10-17T08:18:21.001239'\\ndef date_conversion(str_date):\\n    dc = datetime.strptime(str_date, '%Y-%m-%dT%H:%M:%S.%f')\\n    pass\\n\\n\\ndate_conversion(str_dw)\\n# a fucntion has to return something, if not use Pass\\n\\n# block of code with specific methods\\n\""
      ]
     },
     "execution_count": 57,
     "metadata": {},
     "output_type": "execute_result"
    }
   ],
   "source": [
    "qwerty = open(\"/Users/ans2human/textfiles/sometxt.txt\", \"r\")\n",
    "qwerty.read()\n"
   ]
  },
  {
   "cell_type": "code",
   "execution_count": null,
   "metadata": {},
   "outputs": [],
   "source": []
  }
 ],
 "metadata": {
  "kernelspec": {
   "display_name": "Python 3",
   "language": "python",
   "name": "python3"
  },
  "language_info": {
   "codemirror_mode": {
    "name": "ipython",
    "version": 3
   },
   "file_extension": ".py",
   "mimetype": "text/x-python",
   "name": "python",
   "nbconvert_exporter": "python",
   "pygments_lexer": "ipython3",
   "version": "3.9.0"
  }
 },
 "nbformat": 4,
 "nbformat_minor": 4
}
